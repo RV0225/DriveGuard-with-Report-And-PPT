{
 "cells": [
  {
   "cell_type": "code",
   "execution_count": null,
   "id": "89a9f095",
   "metadata": {},
   "outputs": [
    {
     "name": "stdout",
     "output_type": "stream",
     "text": [
      "Drowsiness detection completed. Report created.\n",
      "Drowsiness detection completed. Report created.\n"
     ]
    }
   ],
   "source": [
    "import tkinter as tk\n",
    "from PIL import Image, ImageTk\n",
    "%run main_Logic.ipynb\n",
    "\n",
    "# Create the main window\n",
    "window = tk.Tk()\n",
    "window.title(\"Drowsiness Detection System\")\n",
    "\n",
    "# Set fixed window size\n",
    "window.geometry(\"800x600\")\n",
    "\n",
    "# Loading the background image\n",
    "bg_image = Image.open(\"bg_Image.jpg\")\n",
    "bg_image = ImageTk.PhotoImage(bg_image)\n",
    "\n",
    "# Create a Canvas to place the background image\n",
    "canvas = tk.Canvas(window, width=800, height=600)\n",
    "canvas.pack()\n",
    "canvas.create_image(0, 0, anchor=tk.NW, image=bg_image)\n",
    "\n",
    "# Create a title label\n",
    "title_label = tk.Label(window, text=\"Drowsiness Detection System\", font=(\"Arial\", 24), fg=\"black\")\n",
    "title_label.place(relx=0.5, rely=0.1, anchor=tk.CENTER)\n",
    "\n",
    "# Create the start button\n",
    "start_button = tk.Button(window, text=\"Start Detection\", font=(\"Arial\", 18), bg=\"#43b047\", fg=\"white\", command=start_detection)\n",
    "start_button.place(relx=0.5, rely=0.3, anchor=tk.CENTER)\n",
    "\n",
    "# Create the stop button\n",
    "stop_button = tk.Button(window, text=\"Stop Detection\", font=(\"Arial\", 18), bg=\"#e53935\", fg=\"white\", command=stop_detection)\n",
    "stop_button.place(relx=0.5, rely=0.4, anchor=tk.CENTER)\n",
    "\n",
    "# Create the show reports button\n",
    "show_reports_button = tk.Button(window, text=\"Show Reports\", font=(\"Arial\", 18), bg=\"#f9a602\", fg=\"white\", command=show_reports)\n",
    "show_reports_button.place(relx=0.5, rely=0.5, anchor=tk.CENTER)\n",
    "\n",
    "# Create a checkbox to record video\n",
    "record_video_var = tk.BooleanVar()\n",
    "record_video_checkbox = tk.Checkbutton(window, text=\"Record Video\", font=(\"Arial\", 18), variable=record_video_var, bg=\"white\")\n",
    "record_video_checkbox.place(relx=0.5, rely=0.6, anchor=tk.CENTER)\n",
    "\n",
    "# Create a checkbox to show landmarks\n",
    "show_landmarks_var = tk.BooleanVar()\n",
    "show_landmarks_checkbox = tk.Checkbutton(window, text=\"Show Landmarks\", font=(\"Arial\", 18), variable=show_landmarks_var, bg=\"white\")\n",
    "show_landmarks_checkbox.place(relx=0.5, rely=0.7, anchor=tk.CENTER)\n",
    "\n",
    "# Create the show recorded videos button\n",
    "show_recorded_videos_button = tk.Button(window, text=\"Show Recorded Videos\", font=(\"Arial\", 18), bg=\"#f9a602\", fg=\"white\", command=show_recorded_videos)\n",
    "show_recorded_videos_button.place(relx=0.5, rely=0.8, anchor=tk.CENTER)\n",
    "\n",
    "# Set the flag to indicate if detection is running\n",
    "detection_running = False\n",
    "\n",
    "# Run the main window loop\n",
    "window.mainloop()\n"
   ]
  },
  {
   "cell_type": "code",
   "execution_count": null,
   "id": "d5b3ce17",
   "metadata": {},
   "outputs": [],
   "source": []
  }
 ],
 "metadata": {
  "kernelspec": {
   "display_name": "Python 3 (ipykernel)",
   "language": "python",
   "name": "python3"
  },
  "language_info": {
   "codemirror_mode": {
    "name": "ipython",
    "version": 3
   },
   "file_extension": ".py",
   "mimetype": "text/x-python",
   "name": "python",
   "nbconvert_exporter": "python",
   "pygments_lexer": "ipython3",
   "version": "3.10.9"
  }
 },
 "nbformat": 4,
 "nbformat_minor": 5
}
